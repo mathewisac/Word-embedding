{
 "cells": [
  {
   "cell_type": "code",
   "execution_count": 1,
   "metadata": {},
   "outputs": [
    {
     "name": "stderr",
     "output_type": "stream",
     "text": [
      "C:\\Users\\mathew\\anaconda3\\envs\\myenv\\lib\\site-packages\\tensorflow\\python\\framework\\dtypes.py:516: FutureWarning: Passing (type, 1) or '1type' as a synonym of type is deprecated; in a future version of numpy, it will be understood as (type, (1,)) / '(1,)type'.\n",
      "  _np_qint8 = np.dtype([(\"qint8\", np.int8, 1)])\n",
      "C:\\Users\\mathew\\anaconda3\\envs\\myenv\\lib\\site-packages\\tensorflow\\python\\framework\\dtypes.py:517: FutureWarning: Passing (type, 1) or '1type' as a synonym of type is deprecated; in a future version of numpy, it will be understood as (type, (1,)) / '(1,)type'.\n",
      "  _np_quint8 = np.dtype([(\"quint8\", np.uint8, 1)])\n",
      "C:\\Users\\mathew\\anaconda3\\envs\\myenv\\lib\\site-packages\\tensorflow\\python\\framework\\dtypes.py:518: FutureWarning: Passing (type, 1) or '1type' as a synonym of type is deprecated; in a future version of numpy, it will be understood as (type, (1,)) / '(1,)type'.\n",
      "  _np_qint16 = np.dtype([(\"qint16\", np.int16, 1)])\n",
      "C:\\Users\\mathew\\anaconda3\\envs\\myenv\\lib\\site-packages\\tensorflow\\python\\framework\\dtypes.py:519: FutureWarning: Passing (type, 1) or '1type' as a synonym of type is deprecated; in a future version of numpy, it will be understood as (type, (1,)) / '(1,)type'.\n",
      "  _np_quint16 = np.dtype([(\"quint16\", np.uint16, 1)])\n",
      "C:\\Users\\mathew\\anaconda3\\envs\\myenv\\lib\\site-packages\\tensorflow\\python\\framework\\dtypes.py:520: FutureWarning: Passing (type, 1) or '1type' as a synonym of type is deprecated; in a future version of numpy, it will be understood as (type, (1,)) / '(1,)type'.\n",
      "  _np_qint32 = np.dtype([(\"qint32\", np.int32, 1)])\n",
      "C:\\Users\\mathew\\anaconda3\\envs\\myenv\\lib\\site-packages\\tensorflow\\python\\framework\\dtypes.py:525: FutureWarning: Passing (type, 1) or '1type' as a synonym of type is deprecated; in a future version of numpy, it will be understood as (type, (1,)) / '(1,)type'.\n",
      "  np_resource = np.dtype([(\"resource\", np.ubyte, 1)])\n",
      "C:\\Users\\mathew\\anaconda3\\envs\\myenv\\lib\\site-packages\\tensorboard\\compat\\tensorflow_stub\\dtypes.py:541: FutureWarning: Passing (type, 1) or '1type' as a synonym of type is deprecated; in a future version of numpy, it will be understood as (type, (1,)) / '(1,)type'.\n",
      "  _np_qint8 = np.dtype([(\"qint8\", np.int8, 1)])\n",
      "C:\\Users\\mathew\\anaconda3\\envs\\myenv\\lib\\site-packages\\tensorboard\\compat\\tensorflow_stub\\dtypes.py:542: FutureWarning: Passing (type, 1) or '1type' as a synonym of type is deprecated; in a future version of numpy, it will be understood as (type, (1,)) / '(1,)type'.\n",
      "  _np_quint8 = np.dtype([(\"quint8\", np.uint8, 1)])\n",
      "C:\\Users\\mathew\\anaconda3\\envs\\myenv\\lib\\site-packages\\tensorboard\\compat\\tensorflow_stub\\dtypes.py:543: FutureWarning: Passing (type, 1) or '1type' as a synonym of type is deprecated; in a future version of numpy, it will be understood as (type, (1,)) / '(1,)type'.\n",
      "  _np_qint16 = np.dtype([(\"qint16\", np.int16, 1)])\n",
      "C:\\Users\\mathew\\anaconda3\\envs\\myenv\\lib\\site-packages\\tensorboard\\compat\\tensorflow_stub\\dtypes.py:544: FutureWarning: Passing (type, 1) or '1type' as a synonym of type is deprecated; in a future version of numpy, it will be understood as (type, (1,)) / '(1,)type'.\n",
      "  _np_quint16 = np.dtype([(\"quint16\", np.uint16, 1)])\n",
      "C:\\Users\\mathew\\anaconda3\\envs\\myenv\\lib\\site-packages\\tensorboard\\compat\\tensorflow_stub\\dtypes.py:545: FutureWarning: Passing (type, 1) or '1type' as a synonym of type is deprecated; in a future version of numpy, it will be understood as (type, (1,)) / '(1,)type'.\n",
      "  _np_qint32 = np.dtype([(\"qint32\", np.int32, 1)])\n",
      "C:\\Users\\mathew\\anaconda3\\envs\\myenv\\lib\\site-packages\\tensorboard\\compat\\tensorflow_stub\\dtypes.py:550: FutureWarning: Passing (type, 1) or '1type' as a synonym of type is deprecated; in a future version of numpy, it will be understood as (type, (1,)) / '(1,)type'.\n",
      "  np_resource = np.dtype([(\"resource\", np.ubyte, 1)])\n"
     ]
    }
   ],
   "source": [
    "\n",
    "##tensorflow >2.0\n",
    "from tensorflow.keras.preprocessing.text import one_hot"
   ]
  },
  {
   "cell_type": "code",
   "execution_count": 2,
   "metadata": {},
   "outputs": [],
   "source": [
    "### sentences\n",
    "sent=[  'the glass of milk',\n",
    "     'the glass of juice',\n",
    "     'the cup of tea',\n",
    "    'I am a good boy',\n",
    "     'I am a good developer',\n",
    "     'understand the meaning of words',\n",
    "     'your videos are good',]"
   ]
  },
  {
   "cell_type": "code",
   "execution_count": 3,
   "metadata": {},
   "outputs": [],
   "source": [
    "### Vocabulary size\n",
    "voc_size=10000"
   ]
  },
  {
   "cell_type": "code",
   "execution_count": 4,
   "metadata": {},
   "outputs": [
    {
     "name": "stdout",
     "output_type": "stream",
     "text": [
      "[[5431, 4418, 1149, 2409], [5431, 4418, 1149, 4386], [5431, 3526, 1149, 5049], [4276, 994, 7407, 3046, 2432], [4276, 994, 7407, 3046, 2122], [2320, 5431, 2386, 1149, 8268], [8777, 1470, 6913, 3046]]\n"
     ]
    }
   ],
   "source": [
    "\n",
    "onehot_repr=[one_hot(words,voc_size)for words in sent] \n",
    "print(onehot_repr)"
   ]
  },
  {
   "cell_type": "code",
   "execution_count": 5,
   "metadata": {},
   "outputs": [],
   "source": [
    "from tensorflow.keras.layers import Embedding\n",
    "from tensorflow.keras.preprocessing.sequence import pad_sequences\n",
    "from tensorflow.keras.models import Sequential"
   ]
  },
  {
   "cell_type": "code",
   "execution_count": 6,
   "metadata": {},
   "outputs": [],
   "source": [
    "import numpy as np"
   ]
  },
  {
   "cell_type": "code",
   "execution_count": 7,
   "metadata": {},
   "outputs": [
    {
     "name": "stdout",
     "output_type": "stream",
     "text": [
      "[[   0    0    0    0 5431 4418 1149 2409]\n",
      " [   0    0    0    0 5431 4418 1149 4386]\n",
      " [   0    0    0    0 5431 3526 1149 5049]\n",
      " [   0    0    0 4276  994 7407 3046 2432]\n",
      " [   0    0    0 4276  994 7407 3046 2122]\n",
      " [   0    0    0 2320 5431 2386 1149 8268]\n",
      " [   0    0    0    0 8777 1470 6913 3046]]\n"
     ]
    }
   ],
   "source": [
    "sent_length=8\n",
    "embedded_docs=pad_sequences(onehot_repr,padding='pre',maxlen=sent_length)\n",
    "print(embedded_docs)"
   ]
  },
  {
   "cell_type": "code",
   "execution_count": 8,
   "metadata": {},
   "outputs": [],
   "source": [
    "dim=10"
   ]
  },
  {
   "cell_type": "code",
   "execution_count": 9,
   "metadata": {},
   "outputs": [
    {
     "name": "stdout",
     "output_type": "stream",
     "text": [
      "WARNING:tensorflow:From C:\\Users\\mathew\\anaconda3\\envs\\myenv\\lib\\site-packages\\tensorflow\\python\\keras\\initializers.py:119: calling RandomUniform.__init__ (from tensorflow.python.ops.init_ops) with dtype is deprecated and will be removed in a future version.\n",
      "Instructions for updating:\n",
      "Call initializer instance with the dtype argument instead of passing it to the constructor\n"
     ]
    }
   ],
   "source": [
    "model=Sequential()\n",
    "model.add(Embedding(voc_size,10,input_length=sent_length))\n",
    "model.compile('adam','mse')"
   ]
  },
  {
   "cell_type": "code",
   "execution_count": 10,
   "metadata": {},
   "outputs": [
    {
     "name": "stdout",
     "output_type": "stream",
     "text": [
      "Model: \"sequential\"\n",
      "_________________________________________________________________\n",
      "Layer (type)                 Output Shape              Param #   \n",
      "=================================================================\n",
      "embedding (Embedding)        (None, 8, 10)             100000    \n",
      "=================================================================\n",
      "Total params: 100,000\n",
      "Trainable params: 100,000\n",
      "Non-trainable params: 0\n",
      "_________________________________________________________________\n"
     ]
    }
   ],
   "source": [
    "\n",
    "model.summary()"
   ]
  },
  {
   "cell_type": "code",
   "execution_count": 11,
   "metadata": {},
   "outputs": [
    {
     "name": "stdout",
     "output_type": "stream",
     "text": [
      "[[[-2.78152358e-02  1.83266141e-02 -3.04404851e-02  2.25424767e-03\n",
      "    5.55926561e-03 -1.18986480e-02  2.43766643e-02  3.97670902e-02\n",
      "   -1.36581287e-02 -9.60372761e-03]\n",
      "  [-2.78152358e-02  1.83266141e-02 -3.04404851e-02  2.25424767e-03\n",
      "    5.55926561e-03 -1.18986480e-02  2.43766643e-02  3.97670902e-02\n",
      "   -1.36581287e-02 -9.60372761e-03]\n",
      "  [-2.78152358e-02  1.83266141e-02 -3.04404851e-02  2.25424767e-03\n",
      "    5.55926561e-03 -1.18986480e-02  2.43766643e-02  3.97670902e-02\n",
      "   -1.36581287e-02 -9.60372761e-03]\n",
      "  [-2.78152358e-02  1.83266141e-02 -3.04404851e-02  2.25424767e-03\n",
      "    5.55926561e-03 -1.18986480e-02  2.43766643e-02  3.97670902e-02\n",
      "   -1.36581287e-02 -9.60372761e-03]\n",
      "  [ 9.37180594e-03 -2.02441569e-02 -9.82660055e-03  4.03756611e-02\n",
      "    2.71828659e-02 -4.66423295e-02 -2.95889266e-02  3.64193954e-02\n",
      "   -4.94692326e-02  3.91721725e-03]\n",
      "  [-4.58021872e-02  2.63516344e-02 -3.16985846e-02  4.89365570e-02\n",
      "   -1.34209022e-02  4.75843288e-02  3.01864035e-02 -4.33440097e-02\n",
      "    3.09474207e-02 -2.47703325e-02]\n",
      "  [-3.58042605e-02 -3.24975997e-02 -1.45031437e-02 -4.27682325e-03\n",
      "    9.32598114e-03  1.84432976e-02 -2.30865721e-02  3.02799456e-02\n",
      "    2.08004452e-02  2.78603695e-02]\n",
      "  [-1.63398981e-02  6.57000393e-03 -3.55641916e-03 -4.23276313e-02\n",
      "   -2.07510833e-02  3.50981988e-02  9.29832458e-03  1.67011060e-02\n",
      "    1.45765655e-02  2.88158320e-02]]\n",
      "\n",
      " [[-2.78152358e-02  1.83266141e-02 -3.04404851e-02  2.25424767e-03\n",
      "    5.55926561e-03 -1.18986480e-02  2.43766643e-02  3.97670902e-02\n",
      "   -1.36581287e-02 -9.60372761e-03]\n",
      "  [-2.78152358e-02  1.83266141e-02 -3.04404851e-02  2.25424767e-03\n",
      "    5.55926561e-03 -1.18986480e-02  2.43766643e-02  3.97670902e-02\n",
      "   -1.36581287e-02 -9.60372761e-03]\n",
      "  [-2.78152358e-02  1.83266141e-02 -3.04404851e-02  2.25424767e-03\n",
      "    5.55926561e-03 -1.18986480e-02  2.43766643e-02  3.97670902e-02\n",
      "   -1.36581287e-02 -9.60372761e-03]\n",
      "  [-2.78152358e-02  1.83266141e-02 -3.04404851e-02  2.25424767e-03\n",
      "    5.55926561e-03 -1.18986480e-02  2.43766643e-02  3.97670902e-02\n",
      "   -1.36581287e-02 -9.60372761e-03]\n",
      "  [ 9.37180594e-03 -2.02441569e-02 -9.82660055e-03  4.03756611e-02\n",
      "    2.71828659e-02 -4.66423295e-02 -2.95889266e-02  3.64193954e-02\n",
      "   -4.94692326e-02  3.91721725e-03]\n",
      "  [-4.58021872e-02  2.63516344e-02 -3.16985846e-02  4.89365570e-02\n",
      "   -1.34209022e-02  4.75843288e-02  3.01864035e-02 -4.33440097e-02\n",
      "    3.09474207e-02 -2.47703325e-02]\n",
      "  [-3.58042605e-02 -3.24975997e-02 -1.45031437e-02 -4.27682325e-03\n",
      "    9.32598114e-03  1.84432976e-02 -2.30865721e-02  3.02799456e-02\n",
      "    2.08004452e-02  2.78603695e-02]\n",
      "  [ 1.98695771e-02  3.70404832e-02 -4.20324877e-03  2.67478339e-02\n",
      "   -7.30761141e-03 -4.52273488e-02  5.88437170e-03  4.23307680e-02\n",
      "   -2.31533535e-02  2.61206739e-02]]\n",
      "\n",
      " [[-2.78152358e-02  1.83266141e-02 -3.04404851e-02  2.25424767e-03\n",
      "    5.55926561e-03 -1.18986480e-02  2.43766643e-02  3.97670902e-02\n",
      "   -1.36581287e-02 -9.60372761e-03]\n",
      "  [-2.78152358e-02  1.83266141e-02 -3.04404851e-02  2.25424767e-03\n",
      "    5.55926561e-03 -1.18986480e-02  2.43766643e-02  3.97670902e-02\n",
      "   -1.36581287e-02 -9.60372761e-03]\n",
      "  [-2.78152358e-02  1.83266141e-02 -3.04404851e-02  2.25424767e-03\n",
      "    5.55926561e-03 -1.18986480e-02  2.43766643e-02  3.97670902e-02\n",
      "   -1.36581287e-02 -9.60372761e-03]\n",
      "  [-2.78152358e-02  1.83266141e-02 -3.04404851e-02  2.25424767e-03\n",
      "    5.55926561e-03 -1.18986480e-02  2.43766643e-02  3.97670902e-02\n",
      "   -1.36581287e-02 -9.60372761e-03]\n",
      "  [ 9.37180594e-03 -2.02441569e-02 -9.82660055e-03  4.03756611e-02\n",
      "    2.71828659e-02 -4.66423295e-02 -2.95889266e-02  3.64193954e-02\n",
      "   -4.94692326e-02  3.91721725e-03]\n",
      "  [-2.59371158e-02 -3.97997871e-02  1.66468285e-02  4.83207777e-03\n",
      "    3.27322744e-02 -4.72167991e-02 -3.33597213e-02  1.06101744e-02\n",
      "    4.97556850e-03 -4.86344099e-02]\n",
      "  [-3.58042605e-02 -3.24975997e-02 -1.45031437e-02 -4.27682325e-03\n",
      "    9.32598114e-03  1.84432976e-02 -2.30865721e-02  3.02799456e-02\n",
      "    2.08004452e-02  2.78603695e-02]\n",
      "  [ 1.83042996e-02  1.72371157e-02 -3.01801208e-02  1.09273195e-02\n",
      "   -4.51966189e-02 -3.26268226e-02 -2.02147849e-02  1.12592950e-02\n",
      "   -1.48226842e-02 -2.19484102e-02]]\n",
      "\n",
      " [[-2.78152358e-02  1.83266141e-02 -3.04404851e-02  2.25424767e-03\n",
      "    5.55926561e-03 -1.18986480e-02  2.43766643e-02  3.97670902e-02\n",
      "   -1.36581287e-02 -9.60372761e-03]\n",
      "  [-2.78152358e-02  1.83266141e-02 -3.04404851e-02  2.25424767e-03\n",
      "    5.55926561e-03 -1.18986480e-02  2.43766643e-02  3.97670902e-02\n",
      "   -1.36581287e-02 -9.60372761e-03]\n",
      "  [-2.78152358e-02  1.83266141e-02 -3.04404851e-02  2.25424767e-03\n",
      "    5.55926561e-03 -1.18986480e-02  2.43766643e-02  3.97670902e-02\n",
      "   -1.36581287e-02 -9.60372761e-03]\n",
      "  [ 3.58187295e-02  4.12969105e-02  1.96157582e-02  2.66479291e-02\n",
      "    3.63257639e-02  3.63035537e-02  4.30166721e-03 -1.22486353e-02\n",
      "    3.14884670e-02  1.84372403e-02]\n",
      "  [-4.39084768e-02  2.39968561e-02 -4.00668383e-03 -3.66010070e-02\n",
      "    3.20710428e-02 -4.61848490e-02  3.22443582e-02  3.69449295e-02\n",
      "    2.03666575e-02 -2.32940316e-02]\n",
      "  [ 2.72320546e-02 -1.64864548e-02  2.38301270e-02 -2.30546724e-02\n",
      "   -3.81940231e-02 -2.53011342e-02  6.98101521e-03  2.55617760e-02\n",
      "    3.19680311e-02 -2.09677704e-02]\n",
      "  [ 3.02020460e-03  3.17991413e-02  1.37223117e-02 -2.90155895e-02\n",
      "    3.64586450e-02  1.82409994e-02 -4.76112142e-02  2.92497538e-02\n",
      "    3.20066139e-03  4.57417704e-02]\n",
      "  [ 2.10180879e-05 -4.30816896e-02  2.63085477e-02  2.78310888e-02\n",
      "   -3.94376516e-02  4.48138155e-02  3.91603447e-02 -2.58757919e-03\n",
      "   -3.74688283e-02 -4.64908145e-02]]\n",
      "\n",
      " [[-2.78152358e-02  1.83266141e-02 -3.04404851e-02  2.25424767e-03\n",
      "    5.55926561e-03 -1.18986480e-02  2.43766643e-02  3.97670902e-02\n",
      "   -1.36581287e-02 -9.60372761e-03]\n",
      "  [-2.78152358e-02  1.83266141e-02 -3.04404851e-02  2.25424767e-03\n",
      "    5.55926561e-03 -1.18986480e-02  2.43766643e-02  3.97670902e-02\n",
      "   -1.36581287e-02 -9.60372761e-03]\n",
      "  [-2.78152358e-02  1.83266141e-02 -3.04404851e-02  2.25424767e-03\n",
      "    5.55926561e-03 -1.18986480e-02  2.43766643e-02  3.97670902e-02\n",
      "   -1.36581287e-02 -9.60372761e-03]\n",
      "  [ 3.58187295e-02  4.12969105e-02  1.96157582e-02  2.66479291e-02\n",
      "    3.63257639e-02  3.63035537e-02  4.30166721e-03 -1.22486353e-02\n",
      "    3.14884670e-02  1.84372403e-02]\n",
      "  [-4.39084768e-02  2.39968561e-02 -4.00668383e-03 -3.66010070e-02\n",
      "    3.20710428e-02 -4.61848490e-02  3.22443582e-02  3.69449295e-02\n",
      "    2.03666575e-02 -2.32940316e-02]\n",
      "  [ 2.72320546e-02 -1.64864548e-02  2.38301270e-02 -2.30546724e-02\n",
      "   -3.81940231e-02 -2.53011342e-02  6.98101521e-03  2.55617760e-02\n",
      "    3.19680311e-02 -2.09677704e-02]\n",
      "  [ 3.02020460e-03  3.17991413e-02  1.37223117e-02 -2.90155895e-02\n",
      "    3.64586450e-02  1.82409994e-02 -4.76112142e-02  2.92497538e-02\n",
      "    3.20066139e-03  4.57417704e-02]\n",
      "  [ 2.77326964e-02  2.29101665e-02 -3.72281559e-02 -2.30254885e-02\n",
      "    4.70616333e-02 -2.39221100e-02  1.18650496e-04 -3.46474163e-02\n",
      "    3.38560604e-02 -3.44127789e-02]]\n",
      "\n",
      " [[-2.78152358e-02  1.83266141e-02 -3.04404851e-02  2.25424767e-03\n",
      "    5.55926561e-03 -1.18986480e-02  2.43766643e-02  3.97670902e-02\n",
      "   -1.36581287e-02 -9.60372761e-03]\n",
      "  [-2.78152358e-02  1.83266141e-02 -3.04404851e-02  2.25424767e-03\n",
      "    5.55926561e-03 -1.18986480e-02  2.43766643e-02  3.97670902e-02\n",
      "   -1.36581287e-02 -9.60372761e-03]\n",
      "  [-2.78152358e-02  1.83266141e-02 -3.04404851e-02  2.25424767e-03\n",
      "    5.55926561e-03 -1.18986480e-02  2.43766643e-02  3.97670902e-02\n",
      "   -1.36581287e-02 -9.60372761e-03]\n",
      "  [ 2.27586366e-02 -9.83212143e-03 -2.90282611e-02 -8.70333984e-03\n",
      "    4.93134521e-02 -1.50030367e-02  3.63154747e-02  3.69950272e-02\n",
      "   -3.65914218e-02  4.18439619e-02]\n",
      "  [ 9.37180594e-03 -2.02441569e-02 -9.82660055e-03  4.03756611e-02\n",
      "    2.71828659e-02 -4.66423295e-02 -2.95889266e-02  3.64193954e-02\n",
      "   -4.94692326e-02  3.91721725e-03]\n",
      "  [ 3.53279822e-02  4.17070501e-02  3.24569382e-02  4.90555502e-02\n",
      "    1.05231628e-02  8.35169107e-04  2.52565779e-02 -3.83860841e-02\n",
      "   -5.45127317e-03  4.60418500e-02]\n",
      "  [-3.58042605e-02 -3.24975997e-02 -1.45031437e-02 -4.27682325e-03\n",
      "    9.32598114e-03  1.84432976e-02 -2.30865721e-02  3.02799456e-02\n",
      "    2.08004452e-02  2.78603695e-02]\n",
      "  [-4.00986075e-02 -1.06211193e-02 -1.82550028e-03 -2.73110755e-02\n",
      "   -3.39868665e-02  4.07459401e-02 -1.71804912e-02  7.74244219e-03\n",
      "    4.59815748e-02  3.48353647e-02]]\n",
      "\n",
      " [[-2.78152358e-02  1.83266141e-02 -3.04404851e-02  2.25424767e-03\n",
      "    5.55926561e-03 -1.18986480e-02  2.43766643e-02  3.97670902e-02\n",
      "   -1.36581287e-02 -9.60372761e-03]\n",
      "  [-2.78152358e-02  1.83266141e-02 -3.04404851e-02  2.25424767e-03\n",
      "    5.55926561e-03 -1.18986480e-02  2.43766643e-02  3.97670902e-02\n",
      "   -1.36581287e-02 -9.60372761e-03]\n",
      "  [-2.78152358e-02  1.83266141e-02 -3.04404851e-02  2.25424767e-03\n",
      "    5.55926561e-03 -1.18986480e-02  2.43766643e-02  3.97670902e-02\n",
      "   -1.36581287e-02 -9.60372761e-03]\n",
      "  [-2.78152358e-02  1.83266141e-02 -3.04404851e-02  2.25424767e-03\n",
      "    5.55926561e-03 -1.18986480e-02  2.43766643e-02  3.97670902e-02\n",
      "   -1.36581287e-02 -9.60372761e-03]\n",
      "  [ 4.41502407e-03  4.95810397e-02  2.72978470e-03  4.34764475e-03\n",
      "    2.82370113e-02  1.09476931e-02  2.41009928e-02  1.65187605e-02\n",
      "    2.41903178e-02  1.98708065e-02]\n",
      "  [-2.81156786e-02  4.49144840e-03  1.22901313e-02  4.24632691e-02\n",
      "    4.81653847e-02  7.40700960e-03  2.15464719e-02  1.91053003e-03\n",
      "    1.07111447e-02  2.95989625e-02]\n",
      "  [ 4.54335697e-02  8.17263126e-03  2.69378312e-02 -3.68263945e-02\n",
      "    3.61386873e-02 -2.02687867e-02 -2.34437119e-02  4.27374132e-02\n",
      "    2.58921124e-02  4.79469784e-02]\n",
      "  [ 3.02020460e-03  3.17991413e-02  1.37223117e-02 -2.90155895e-02\n",
      "    3.64586450e-02  1.82409994e-02 -4.76112142e-02  2.92497538e-02\n",
      "    3.20066139e-03  4.57417704e-02]]]\n"
     ]
    }
   ],
   "source": [
    "print(model.predict(embedded_docs))"
   ]
  },
  {
   "cell_type": "code",
   "execution_count": 12,
   "metadata": {},
   "outputs": [
    {
     "data": {
      "text/plain": [
       "array([   0,    0,    0,    0, 5431, 4418, 1149, 2409])"
      ]
     },
     "execution_count": 12,
     "metadata": {},
     "output_type": "execute_result"
    }
   ],
   "source": [
    "\n",
    "embedded_docs[0]"
   ]
  },
  {
   "cell_type": "code",
   "execution_count": null,
   "metadata": {},
   "outputs": [],
   "source": []
  }
 ],
 "metadata": {
  "kernelspec": {
   "display_name": "Python 3",
   "language": "python",
   "name": "python3"
  },
  "language_info": {
   "codemirror_mode": {
    "name": "ipython",
    "version": 3
   },
   "file_extension": ".py",
   "mimetype": "text/x-python",
   "name": "python",
   "nbconvert_exporter": "python",
   "pygments_lexer": "ipython3",
   "version": "3.7.1"
  }
 },
 "nbformat": 4,
 "nbformat_minor": 4
}
